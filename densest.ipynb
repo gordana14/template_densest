{
  "cells": [
    {
      "cell_type": "markdown",
      "id": "f31d0abf-f4cf-461a-9864-1546ba445c69",
      "metadata": {},
      "source": ["# Densest subgraph"]
    },
    {
      "cell_type": "markdown",
      "id": "77d48678-2c2f-4ca7-a64d-c11fd532d03e",
      "metadata": {},
      "source": [
        "## Basic Graph Class\n",
        "\n",
        "We already provide the basic implementation of a graph class.\n",
        "\n",
        "Iterating over nodes can be done by using `for u in G.nodesToEdges` and iterating over the edges incident upon node `u` can be done using `for v in G.nodesToEdges[u]`. To check whether an edge $(u,v)$ exists use `G.edgeExists(u,v)`.\n",
        "\n",
        "Graphs can be read from files using the `readFromFile`-procedure. Using the optional argument `verticesToIgnore` which expects a `set()` as input, you may exclude some nodes from the graph, i.e., if `verticesToIgnore` is some set $S$ then it will load the graph $G=(V\\setminus S,E[V\\setminus S])$. Note that you might have to delete header-rows from some data files to make the procedure work."
      ]
    },
    {
      "cell_type": "code",
      "execution_count": null,
      "id": "d9498f7f-202b-40ab-a4f0-af279550537a",
      "metadata": {},
      "outputs": [],
      "source": [
        "class Graph:\n",
        "    def __init__(self):\n",
        "        self.numNodes = 0\n",
        "        self.numEdges = 0\n",
        "        self.edges = set()\n",
        "        self.nodesToEdges = {}\n",
        "\n",
        "    def addEdge(self, u, v):\n",
        "        if u == v or v in self.nodesToEdges and u in self.nodesToEdges[v]:\n",
        "            return\n",
        "        self.numEdges += 1\n",
        "        self.addNeighbor(u, v)\n",
        "        self.addNeighbor(v, u)\n",
        "        self.edges.add((u, v))\n",
        "\n",
        "    def removeEdge(self, u, v):\n",
        "        self.numEdges -= 1\n",
        "        self.nodesToEdges[u].remove(v)\n",
        "        self.nodesToEdges[v].remove(u)\n",
        "        if (u, v) in self.edges:\n",
        "            self.edges.remove((u, v))\n",
        "        else:\n",
        "            self.edges.remove((v, u))\n",
        "\n",
        "    def addNeighbor(self, u, v):\n",
        "        if u not in self.nodesToEdges:\n",
        "            self.numNodes += 1\n",
        "            self.nodesToEdges[u] = set()\n",
        "        self.nodesToEdges[u].add(v)\n",
        "\n",
        "    def edgeExists(self, u, v):\n",
        "        return ((u, v) in self.edges or (v, u) in self.edges)\n",
        "\n",
        "    def degree(self, u):\n",
        "        return len(self.nodesToEdges[u])\n",
        "\n",
        "    def readFromFile(self, filePath, separator=',', verticesToIgnore=set()):\n",
        "        with open(filePath, 'r') as f:\n",
        "            for line in f:\n",
        "                split = line.split(separator)\n",
        "                u = int(split[0])\n",
        "                v = int(split[1])\n",
        "                if u in verticesToIgnore or v in verticesToIgnore:\n",
        "                    continue\n",
        "                self.addEdge(u, v)\n",
        "        print(f'Finished reading graph with {self.numNodes} nodes and {self.numEdges} edges.')"
      ]
    }
  ],
  "metadata": {
    "kernelspec": {
      "display_name": "Python 3 (ipykernel)",
      "language": "python",
      "name": "python3"
    },
    "language_info": {
      "codemirror_mode": {
        "name": "ipython",
        "version": 3
      },
      "file_extension": ".py",
      "mimetype": "text/x-python",
      "name": "python",
      "nbconvert_exporter": "python",
      "pygments_lexer": "ipython3",
      "version": "3.12.7"
    }
  },
  "nbformat": 4,
  "nbformat_minor": 5
}
