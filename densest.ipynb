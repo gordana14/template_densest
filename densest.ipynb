{
"cells": [
{
"cell_type": "markdown",
"id": "f31d0abf-f4cf-461a-9864-1546ba445c69",
"metadata": { },
"source": [
"# Densest subgraph"
]
},
{
"cell_type": "markdown",
"id": "77d48678-2c2f-4ca7-a64d-c11fd532d03e",
"metadata": { },
"source": [
 "## Basic Graph Class\n",
        "\n",
        "We already provide the basic implementation of a graph class.\n",
        "\n",
        "Iterating over nodes can be done by using `for u in G.nodesToEdges` and iterating over the edges incident upon node `u` can be done using `for v in G.nodesToEdges[u]`. To check whether an edge $(u,v)$ exists use `G.edgeExists(u,v)`.\n",
        "\n",
        "Graphs can be read from files using the `readFromFile`-procedure. Using the optional argument `verticesToIgnore` which expects a `set()` as input, you may exclude some nodes from the graph, i.e., if `verticesToIgnore` is some set $S$ then it will load the graph $G=(V\\setminus S,E[V\\setminus S])$. Note that you might have to delete header-rows from some data files to make the procedure work."
    
]
},
{
"cell_type": "code",
"execution_count": null,
"id": "d9498f7f-202b-40ab-a4f0-af279550537a",
"metadata": { },
"outputs": [ ],
"source": [
        "class Graph:\n",
        "    def __init__(self):\n",
        "        self.numNodes = 0\n",
        "        self.numEdges = 0\n",
        "        self.edges = set()\n",
        "        self.nodesToEdges = {}\n",
        "\n",
        "    def addEdge(self, u, v):\n",
        "        if u == v or v in self.nodesToEdges and u in self.nodesToEdges[v]:\n",
        "            return\n",
        "        self.numEdges += 1\n",
        "        self.addNeighbor(u, v)\n",
        "        self.addNeighbor(v, u)\n",
        "        self.edges.add((u, v))\n",
        "\n",
        "    def removeEdge(self, u, v):\n",
        "        self.numEdges -= 1\n",
        "        self.nodesToEdges[u].remove(v)\n",
        "        self.nodesToEdges[v].remove(u)\n",
        "        if (u, v) in self.edges:\n",
        "            self.edges.remove((u, v))\n",
        "        else:\n",
        "            self.edges.remove((v, u))\n",
        "\n",
        "    def addNeighbor(self, u, v):\n",
        "        if u not in self.nodesToEdges:\n",
        "            self.numNodes += 1\n",
        "            self.nodesToEdges[u] = set()\n",
        "        self.nodesToEdges[u].add(v)\n",
        "\n",
        "    def edgeExists(self, u, v):\n",
        "        return ((u, v) in self.edges or (v, u) in self.edges)\n",
        "\n",
        "    def degree(self, u):\n",
        "        return len(self.nodesToEdges[u])\n",
        "\n",
        "    def readFromFile(self, filePath, separator=',', verticesToIgnore=set()):\n",
        "        with open(filePath, 'r') as f:\n",
        "            for line in f:\n",
        "                split = line.split(separator)\n",
        "                u = int(split[0])\n",
        "                v = int(split[1])\n",
        "                if u in verticesToIgnore or v in verticesToIgnore:\n",
        "                    continue\n",
        "                self.addEdge(u, v)\n",
        "        print(f'Finished reading graph with {self.numNodes} nodes and {self.numEdges} edges.')"
]
},
{
"cell_type": "markdown",
"id": "a7dc398f-c38f-4584-b47c-01711c12f7c1",
"metadata": { },
"source": [
"## Basic Linked List Data Structure\n",
"\n",
"First, implement your own linked list data structure ```LinkedList``` in which each element is from the class ```LinkedListElement```."
]
},
{
"cell_type": "code",
"execution_count": null,
"id": "e1dd5e15-6946-40d2-b598-a6bd8eb3f8a6",
"metadata": { },
"outputs": [ ],
"source": [
"class LinkedListElement:\n",
"    def __init__(self,id,prevElement=None,nextElement=None):\n",
"        pass\n",
"\n",
"class LinkedList:\n",
"    def __init__(self):\n",
"        pass\n",
"\n",
"    def appendElement(self, element):\n",
"        pass\n",
"\n",
"    def removeElement(self, element):\n",
"        pass\n",
"\n",
"    def pop(self):\n",
"        pass\n"
]
},
{
"cell_type": "markdown",
"id": "e24f50be-720a-41f7-ba38-ea4769215104",
"metadata": { },
"source": [
"## Implementation of the Greedy Peeling Algorithm\n",
"\n",
"Next, implement the greedy peeling algorithm. The function should be callable using ```densestSubgraphGreedyPeeling(G)``` where ```G``` is a graph using the graph class from above. Besides G, the function may accept more optional arguments.\n"
]
},
{
"cell_type": "code",
"execution_count": null,
"id": "61fba453-e9d6-40fb-a2cb-7d0610cf23a9",
"metadata": { },
"outputs": [ ],
"source": [
"def densestSubgraphGreedyPeeling(G):",
"    pass"
]
},
{
"cell_type": "markdown",
"id": "471472a1-47a3-4774-868a-63bc0b31e078",
"metadata": { },
"source": [
"## Experiments for Densest Subgraph",
"",
"Now, the experiments for the two datasets follow."
]
},
{
"cell_type": "markdown",
"id": "b8b910bf-d22c-44bb-b984-45d0af80b732",
"metadata": { },
"source": [
"### Experiments for the OpenFlights Dataset"
]
},
{
"cell_type": "markdown",
"id": "164e6f7e-5a80-4209-8a8f-9e3d43bdcad2",
"metadata": { },
"source": [
"### Experiments for the Facebook Dataset"
]
},
{
"cell_type": "markdown",
"id": "ebe243ca-6c18-4f88-afdd-d3457aabdf39",
"metadata": { },
"source": [
"## Experiments for Optimal Quasi Clique",
"",
"Now re-run the experiments from above with the new objective function and compare the results to the previous outputs."
]
},
{
"cell_type": "markdown",
"id": "1d89d3f4-7e60-483d-bb5d-15d18f54bb17",
"metadata": { },
"source": [
"### Experiments for the OpenFlights Dataset"
]
},
{
"cell_type": "markdown",
"id": "5f982205-d83c-442c-9a2b-320c556a6d5f",
"metadata": { },
"source": [
"### Experiments for the Facebook Dataset"
]
}
],
"metadata": {
"kernelspec": {
"display_name": "Python 3 (ipykernel)",
"language": "python",
"name": "python3"
},
"language_info": {
"codemirror_mode": {
"name": "ipython",
"version": 3
},
"file_extension": ".py",
"mimetype": "text/x-python",
"name": "python",
"nbconvert_exporter": "python",
"pygments_lexer": "ipython3",
"version": "3.12.7"
}
},
"nbformat": 4,
"nbformat_minor": 5
}
