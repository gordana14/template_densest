{
"cells": [
{
"cell_type": "markdown",
"id": "f31d0abf-f4cf-461a-9864-1546ba445c69",
"metadata": { },
"source": [
"# Densest subgraph"
]
},
{
"cell_type": "markdown",
"id": "77d48678-2c2f-4ca7-a64d-c11fd532d03e",
"metadata": { },
"source": [
 "## Basic Graph Class\n",
        "\n",
        "We already provide the basic implementation of a graph class.\n",
        "\n",
        "Iterating over nodes can be done by using `for u in G.nodesToEdges` and iterating over the edges incident upon node `u` can be done using `for v in G.nodesToEdges[u]`. To check whether an edge $(u,v)$ exists use `G.edgeExists(u,v)`.\n",
        "\n",
        "Graphs can be read from files using the `readFromFile`-procedure. Using the optional argument `verticesToIgnore` which expects a `set()` as input, you may exclude some nodes from the graph, i.e., if `verticesToIgnore` is some set $S$ then it will load the graph $G=(V\\setminus S,E[V\\setminus S])$. Note that you might have to delete header-rows from some data files to make the procedure work."
    
]
},
{
"cell_type": "code",
"execution_count": null,
"id": "d9498f7f-202b-40ab-a4f0-af279550537a",
"metadata": { },
"outputs": [ ],
"source": [
"class Graph:",
"    def __init__(self):",
"        self.numNodes = 0",
"        self.numEdges = 0",
"",
"        self.edges = set()",
"        self.nodesToEdges = {}",
"",
"    def addEdge(self,u,v):",
"        if u == v or v in self.nodesToEdges and u in self.nodesToEdges[v]:",
"            return",
"  ",
"        self.numEdges += 1",
"        self.addNeighbor(u,v)",
"        self.addNeighbor(v,u)",
"        self.edges.add((u,v)) # we only add one pair (u,v) and not (v,u)",
"",
"    def removeEdge(self,u,v):",
"        self.numEdges -= 1",
"        self.nodesToEdges[u].remove(v)",
"        self.nodesToEdges[v].remove(u)",
"",
"        if (u,v) in self.edges:",
"            self.edges.remove((u,v))",
"        else: # (v,u) in self.edges",
"            self.edges.remove((v,u))",
"",
"    def addNeighbor(self,u,v):",
"        if u not in self.nodesToEdges:",
"            self.numNodes += 1",
"            self.nodesToEdges[u] = set()",
"",
"        self.nodesToEdges[u].add(v)",
"",
"    def edgeExists(self, u, v):",
"        return ((u,v) in self.edges or (v,u) in self.edges)",
"        ",
"    def degree(self, u):",
"        return len(self.nodesToEdges[u])",
"",
"    def readFromFile(self, filePath, separator=',', verticesToIgnore=set()):",
"        with open(filePath, 'r') as f:",
"            for line in f:",
"                split = line.split(separator)",
"                u = int(split[0])",
"                v = int(split[1])",
"",
"                if u in verticesToIgnore or v in verticesToIgnore:",
"                    continue",
"                    ",
"                self.addEdge(u, v)",
"",
"        print(f'Finished reading graph with {self.numNodes} nodes and {self.numEdges} edges.')"
]
},
{
"cell_type": "markdown",
"id": "a7dc398f-c38f-4584-b47c-01711c12f7c1",
"metadata": { },
"source": [
"## Basic Linked List Data Structure",
"",
"First, implement your own linked list data structure ```LinkedList``` in which each element is from the class ```LinkedListElement```."
]
},
{
"cell_type": "code",
"execution_count": null,
"id": "e1dd5e15-6946-40d2-b598-a6bd8eb3f8a6",
"metadata": { },
"outputs": [ ],
"source": [
"class LinkedListElement:",
"    def __init__(self,id,prevElement=None,nextElement=None):",
"        pass",
"        ",
"class LinkedList:",
"    def __init__(self):",
"        pass",
"",
"    def appendElement(self, element):",
"        pass",
"",
"    def removeElement(self, element):",
"        pass",
"        ",
"    def pop(self):",
"        pass"
]
},
{
"cell_type": "markdown",
"id": "e24f50be-720a-41f7-ba38-ea4769215104",
"metadata": { },
"source": [
"## Implementation of the Greedy Peeling Algorithm",
"",
"Next, implement the greedy peeling algorithm. The function should be callable using ```densestSubgraphGreedyPeeling(G)``` where ```G``` is a graph using the graph class from above. Bes"id"es G, the function may accept more optional arguments."
]
},
{
"cell_type": "code",
"execution_count": null,
"id": "61fba453-e9d6-40fb-a2cb-7d0610cf23a9",
"metadata": { },
"outputs": [ ],
"source": [
"def densestSubgraphGreedyPeeling(G):",
"    pass"
]
},
{
"cell_type": "markdown",
"id": "471472a1-47a3-4774-868a-63bc0b31e078",
"metadata": { },
"source": [
"## Experiments for Densest Subgraph",
"",
"Now, the experiments for the two datasets follow."
]
},
{
"cell_type": "markdown",
"id": "b8b910bf-d22c-44bb-b984-45d0af80b732",
"metadata": { },
"source": [
"### Experiments for the OpenFlights Dataset"
]
},
{
"cell_type": "markdown",
"id": "164e6f7e-5a80-4209-8a8f-9e3d43bdcad2",
"metadata": { },
"source": [
"### Experiments for the Facebook Dataset"
]
},
{
"cell_type": "markdown",
"id": "ebe243ca-6c18-4f88-afdd-d3457aabdf39",
"metadata": { },
"source": [
"## Experiments for Optimal Quasi Clique",
"",
"Now re-run the experiments from above with the new objective function and compare the results to the previous outputs."
]
},
{
"cell_type": "markdown",
"id": "1d89d3f4-7e60-483d-bb5d-15d18f54bb17",
"metadata": { },
"source": [
"### Experiments for the OpenFlights Dataset"
]
},
{
"cell_type": "markdown",
"id": "5f982205-d83c-442c-9a2b-320c556a6d5f",
"metadata": { },
"source": [
"### Experiments for the Facebook Dataset"
]
}
],
"metadata": {
"kernelspec": {
"display_name": "Python 3 (ipykernel)",
"language": "python",
"name": "python3"
},
"language_info": {
"codemirror_mode": {
"name": "ipython",
"version": "3"
},
"file_extension": ".py",
"mimetype": "text/x-python",
"name": "python",
"nbconvert_exporter": "python",
"pygments_lexer": "ipython3",
"version": "3.12.7"
}
},
"nbformat": "4",
"nbformat_minor": "5"
}
