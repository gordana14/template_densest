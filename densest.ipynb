{
        "cells": [
                {
                        "cell_type": "markdown",
                        "id": "f31d0abf-f4cf-461a-9864-1546ba445c69",
                        "metadata": {},
                        "source": [
                                "# Densest subgraph"
                        ]
                },
                {
                        "cell_type": "markdown",
                        "id": "77d48678-2c2f-4ca7-a64d-c11fd532d03e",
                        "metadata": {},
                        "source": [
                                "## Basic Graph Class\n",
                                "\n",
                                "We already provide the basic implementation of a graph class.\n",
                                "\n",
                                "Iterating over nodes can be done by using `for u in G.nodesToEdges` and iterating over the edges incident upon node `u` can be done using `for v in G.nodesToEdges[u]`. To check whether an edge $(u,v)$ exists use `G.edgeExists(u,v)`.\n",
                                "\n",
                                "Graphs can be read from files using the `readFromFile`-procedure. Using the optional argument `verticesToIgnore` which expects a `set()` as input, you may exclude some nodes from the graph, i.e., if `verticesToIgnore` is some set $S$ then it will load the graph $G=(V\\setminus S,E[V\\setminus S])$. Note that you might have to delete header-rows from some data files to make the procedure work."
                        ]
                },
                {
                        "cell_type": "code",
                        "execution_count": 16,
                        "id": "d9498f7f-202b-40ab-a4f0-af279550537a",
                        "metadata": {},
                        "outputs": [],
                        "source": [
                                "class Graph:\n",
                                "    def __init__(self):\n",
                                "        self.numNodes = 0\n",
                                "        self.numEdges = 0\n",
                                "        self.edges = set()\n",
                                "        self.nodesToEdges = {}\n",
                                "\n",
                                "    def addEdge(self, u, v):\n",
                                "        if u == v or v in self.nodesToEdges and u in self.nodesToEdges[v]:\n",
                                "            return\n",
                                "        self.numEdges += 1\n",
                                "        self.addNeighbor(u, v)\n",
                                "        self.addNeighbor(v, u)\n",
                                "        self.edges.add((u, v))\n",
                                "\n",
                                "    def removeEdge(self, u, v):\n",
                                "        self.numEdges -= 1\n",
                                "        self.nodesToEdges[u].remove(v)\n",
                                "        self.nodesToEdges[v].remove(u)\n",
                                "        if (u, v) in self.edges:\n",
                                "            self.edges.remove((u, v))\n",
                                "        else:\n",
                                "            self.edges.remove((v, u))\n",
                                "\n",
                                "    def addNeighbor(self, u, v):\n",
                                "        if u not in self.nodesToEdges:\n",
                                "            self.numNodes += 1\n",
                                "            self.nodesToEdges[u] = set()\n",
                                "        self.nodesToEdges[u].add(v)\n",
                                "\n",
                                "    def edgeExists(self, u, v):\n",
                                "        return ((u, v) in self.edges or (v, u) in self.edges)\n",
                                "\n",
                                "    def degree(self, u):\n",
                                "        return len(self.nodesToEdges[u])\n",
                                "\n",
                                "    def readFromFile(self, filePath, separator=',', verticesToIgnore=set()):\n",
                                "        with open(filePath, 'r') as f:\n",
                                "            next(f)\n",
                                "            for line in f:\n",
                                "                split = line.split(separator)\n",
                                "                u = int(split[0])\n",
                                "                v = int(split[1])\n",
                                "                if u in verticesToIgnore or v in verticesToIgnore:\n",
                                "                    continue\n",
                                "                self.addEdge(u, v)\n",
                                "        print(f'Finished reading graph with {self.numNodes} nodes and {self.numEdges} edges.')"
                        ]
                },
                {
                        "cell_type": "markdown",
                        "id": "a7dc398f-c38f-4584-b47c-01711c12f7c1",
                        "metadata": {},
                        "source": [
                                "## Basic Linked List Data Structure\n",
                                "\n",
                                "First, implement your own linked list data structure ```LinkedList``` in which each element is from the class ```LinkedListElement```."
                        ]
                },
                {
                        "cell_type": "code",
                        "execution_count": 34,
                        "id": "e1dd5e15-6946-40d2-b598-a6bd8eb3f8a6",
                        "metadata": {},
                        "outputs": [],
                        "source": [
                                "class LinkedListElement:\n",
                                "    def __init__(self,id,prevElement=None,nextElement=None):\n",
                                "        self.id = id\n",
                                "        self.next = nextElement\n",
                                "        self.prev = prevElement\n",
                                "\n",
                                "class LinkedList:\n",
                                "    def __init__(self):\n",
                                "        self.head = None\n",
                                "        self.tail = None\n",
                                "        self.size = 0\n",
                                "\n",
                                "    def appendElement(self, element: int):\n",
                                "        new_node = LinkedListElement(element)\n",
                                "        if not self.tail:\n",
                                "            self.head = new_node\n",
                                "            self.tail = new_node\n",
                                "        else:\n",
                                "            new_node.prev = self.tail\n",
                                "            self.tail.next = new_node\n",
                                "            self.tail = new_node\n",
                                "        self.size += 1\n",
                                "        return new_node\n",
                                "\n",
                                "    def removeElement(self, element: int):\n",
                                "\n",
                                "        if not self.head:\n",
                                "            return\n",
                                "        \n",
                                "        if element == self.head:\n",
                                "            self.head = element.next\n",
                                "            if self.head:\n",
                                "                self.head.prev = None\n",
                                "            else:\n",
                                "                self.tail = None\n",
                                "        \n",
                                "        elif element == self.tail:\n",
                                "            self.tail = element.prev\n",
                                "            if self.tail:\n",
                                "                self.tail.next = None\n",
                                "            else:\n",
                                "                self.head = None\n",
                                "        \n",
                                "        else:\n",
                                "            if element.prev:\n",
                                "                element.prev.next = element.next\n",
                                "            if element.next:\n",
                                "                element.next.prev = element.prev\n",
                                "        \n",
                                "        # Decrement size\n",
                                "        self.size -= 1\n",
                                "\n",
                                "    def pop(self):\n",
                                "        temp = self.tail\n",
                                "        if not temp:\n",
                                "            return\n",
                                "        data = temp.id\n",
                                "        self.tail = temp.prev\n",
                                "        if not self.tail:\n",
                                "            self.head = None\n",
                                "        else:\n",
                                "            self.tail.next = None\n",
                                "        self.size -= 1\n",
                                "        return data\n",
                                "\n",
                                "    def __len__(self):\n",
                                "        return self.size"
                        ]
                },
                {
                        "cell_type": "markdown",
                        "id": "e24f50be-720a-41f7-ba38-ea4769215104",
                        "metadata": {},
                        "source": [
                                "## Implementation of the Greedy Peeling Algorithm\n",
                                "\n",
                                "Next, implement the greedy peeling algorithm. The function should be callable using ```densestSubgraphGreedyPeeling(G)``` where ```G``` is a graph using the graph class from above. Besides G, the function may accept more optional arguments.\n"
                        ]
                },
                {
                        "cell_type": "code",
                        "execution_count": 57,
                        "id": "61fba453-e9d6-40fb-a2cb-7d0610cf23a9",
                        "metadata": {},
                        "outputs": [],
                        "source": [
                                "def densestSubgraphGreedyPeeling(G: Graph):\n",
                                "    n = G.numNodes\n",
                                "    edges = G.edges\n",
                                "    nodesToEdges = G.nodesToEdges\n",
                                "    d = [0] * G.numNodes *2\n",
                                "    \n",
                                "    # Count degrees\n",
                                "    for u, v in edges:\n",
                                "        d[u] += 1\n",
                                "        d[v] += 1\n",
                                "    \n",
                                "    # Initialize linked lists for each degree\n",
                                "    L : list[LinkedList] = [LinkedList() for _ in range(max(nodesToEdges.keys()))]\n",
                                "    vertex_pointers = {}  # Map vertex to its node in L\n",
                                "    remaining_vertices : set[int] = set(nodesToEdges.keys())\n",
                                "    # Add vertices to appropriate degree lists\n",
                                "    for v in remaining_vertices:\n",
                                "        node = L[d[v]].appendElement(v)\n",
                                "        vertex_pointers[v] = node\n",
                                "\n",
                                "\n",
                                "    remaining_edges = len(edges)\n",
                                "    max_density = remaining_edges / len(remaining_vertices)\n",
                                "    best_iteration = 0\n",
                                "    ks = 0  # Minimum degree pointer\n",
                                "\n",
                                "\n",
                                "    \n",
                                "    # Create a copy to track removed vertices for the result\n",
                                "    removed_vertices = []\n",
                                "    ks : int = 0\n",
                                "    # Main loop\n",
                                "    for i in list(remaining_vertices):\n",
                                "\n",
                                "\n",
                                "        density = remaining_edges / len(remaining_vertices)\n",
                                "        if density > max_density:\n",
                                "            max_density = density\n",
                                "            best_iteration = len(removed_vertices) + 1\n",
                                "\n",
                                "        while len(L[ks]) == 0:\n",
                                "            ks += 1\n",
                                "        \n",
                                "\n",
                                "        v = L[ks].pop()\n",
                                "        removed_vertices.append(v)\n",
                                "        remaining_vertices.remove(v)\n",
                                "        \n",
                                "        # Remove edges connected to v\n",
                                "        for u in nodesToEdges[v]:\n",
                                "            if u == v:\n",
                                "                remaining_edges -= 1\n",
                                "\n",
                                "            if u in remaining_vertices:\n",
                                "                remaining_edges -= 1\n",
                                "\n",
                                "                d[u] -= 1\n",
                                "                if d[u] < ks:\n",
                                "                    ks = d[u]\n",
                                "\n",
                                "                L[d[u]+1].removeElement(vertex_pointers[u])\n",
                                "\n",
                                "                node = L[d[u]].appendElement(u)\n",
                                "                vertex_pointers[u] = node\n",
                                "        \n",
                                "\n",
                                "\n",
                                "    \n",
                                "    # Return the densest subgraph\n",
                                "    densest_subgraph = list(nodesToEdges.keys())\n",
                                "    for i in range(best_iteration):\n",
                                "\n",
                                "        densest_subgraph.remove(removed_vertices[i])\n",
                                "\n",
                                "    \n",
                                "    return max_density, densest_subgraph"
                        ]
                },
                {
                        "cell_type": "markdown",
                        "id": "471472a1-47a3-4774-868a-63bc0b31e078",
                        "metadata": {},
                        "source": [
                                "## Experiments for Densest Subgraph\n",
                                "\n",
                                "Now, the experiments for the two datasets follow."
                        ]
                },
                {
                        "cell_type": "code",
                        "execution_count": 58,
                        "id": "378af3a3",
                        "metadata": {},
                        "outputs": [],
                        "source": [
                                "from copy import deepcopy\n",
                                "from collections import defaultdict\n",
                                "\n",
                                "def extract_disjoint_dense_subgraphs(G: Graph, num_subgraphs=5):\n",
                                "\n",
                                "    current_G: Graph = deepcopy(G)\n",
                                "    current_edges = G.edges.copy()\n",
                                "    \n",
                                "\n",
                                "    \n",
                                "    # Store results: (density, subgraph) for each round\n",
                                "    results = []\n",
                                "    \n",
                                "    for i in range(num_subgraphs):\n",
                                "        # Skip if graph is empty\n",
                                "        if not current_G:\n",
                                "            print(f\"No more vertices available after extracting {i} subgraphs\")\n",
                                "            break\n",
                                "            \n",
                                "\n",
                                "        density, subgraph = densestSubgraphGreedyPeeling(current_G)\n",
                                "        print(f\"Density: {density}, Size: {len(subgraph)}\")\n",
                                "        # Add to results\n",
                                "        results.append((density, subgraph))\n",
                                "        \n",
                                "\n",
                                "        \n",
                                "        # Create new graph for next iteration by removing found subgraph vertices\n",
                                "        new_G = Graph()\n",
                                "        new_edges = []\n",
                                "        \n",
                                "        for v, edges in current_G.nodesToEdges.items():\n",
                                "            if v not in subgraph:\n",
                                "                for u in edges:\n",
                                "                    new_G.addEdge(v, u)\n",
                                "                #new_G[v] = [u for u in current_G[v] if u not in subgraph]\n",
                                "\n",
                                "        # for u, v in current_edges:\n",
                                "        #     if u not in subgraph and v not in subgraph:\n",
                                "        #         new_edges.append((u, v))\n",
                                "        \n",
                                "        current_G = new_G\n",
                                "        \n",
                                "        print(f\"Found subgraph with density {density} and {len(subgraph)} vertices\")\n",
                                "    \n",
                                "    return results"
                        ]
                },
                {
                        "cell_type": "markdown",
                        "id": "b8b910bf-d22c-44bb-b984-45d0af80b732",
                        "metadata": {},
                        "source": [
                                "### Experiments for the OpenFlights Dataset"
                        ]
                },
                {
                        "cell_type": "code",
                        "execution_count": 59,
                        "id": "e815d782",
                        "metadata": {},
                        "outputs": [
                                {
                                        "name": "stdout",
                                        "output_type": "stream",
                                        "text": [
                                                "Finished reading graph with 3214 nodes and 18858 edges.\n"
                                        ]
                                }
                        ],
                        "source": [
                                "g= Graph()\n",
                                "g.readFromFile('flight/edges.csv')\n",
                                "density, subgraph = densestSubgraphGreedyPeeling(g)"
                        ]
                },
                {
                        "cell_type": "code",
                        "execution_count": 60,
                        "id": "0305230e",
                        "metadata": {},
                        "outputs": [
                                {
                                        "name": "stdout",
                                        "output_type": "stream",
                                        "text": [
                                                "Density: 25.372881355932204, Size: 176\n",
                                                "Found subgraph with density 25.372881355932204 and 176 vertices\n",
                                                "Density: 16.84375, Size: 63\n",
                                                "Found subgraph with density 16.84375 and 63 vertices\n",
                                                "Density: 11.39344262295082, Size: 60\n",
                                                "Found subgraph with density 11.39344262295082 and 60 vertices\n",
                                                "Density: 10.373134328358208, Size: 334\n",
                                                "Found subgraph with density 10.373134328358208 and 334 vertices\n",
                                                "Density: 6.8545454545454545, Size: 109\n",
                                                "Found subgraph with density 6.8545454545454545 and 109 vertices\n"
                                        ]
                                }
                        ],
                        "source": [
                                "r = extract_disjoint_dense_subgraphs(g, 5)"
                        ]
                },
                {
                        "cell_type": "markdown",
                        "id": "164e6f7e-5a80-4209-8a8f-9e3d43bdcad2",
                        "metadata": {},
                        "source": [
                                "### Experiments for the Facebook Dataset"
                        ]
                },
                {
                        "cell_type": "code",
                        "execution_count": 61,
                        "id": "3a83974d",
                        "metadata": {},
                        "outputs": [
                                {
                                        "name": "stdout",
                                        "output_type": "stream",
                                        "text": [
                                                "Finished reading graph with 22470 nodes and 170823 edges.\n"
                                        ]
                                }
                        ],
                        "source": [
                                "g= Graph()\n",
                                "g.readFromFile('facebook_large/musae_facebook_edges.csv')\n",
                                "density, subgraph = densestSubgraphGreedyPeeling(g)"
                        ]
                },
                {
                        "cell_type": "code",
                        "execution_count": 62,
                        "id": "234cf5b1",
                        "metadata": {},
                        "outputs": [
                                {
                                        "name": "stdout",
                                        "output_type": "stream",
                                        "text": [
                                                "Density: 35.0, Size: 323\n",
                                                "Found subgraph with density 35.0 and 323 vertices\n",
                                                "Density: 25.359550561797754, Size: 88\n",
                                                "Found subgraph with density 25.359550561797754 and 88 vertices\n",
                                                "Density: 22.218934911242602, Size: 844\n",
                                                "Found subgraph with density 22.218934911242602 and 844 vertices\n",
                                                "Density: 17.345454545454544, Size: 54\n",
                                                "Found subgraph with density 17.345454545454544 and 54 vertices\n",
                                                "Density: 15.466453674121405, Size: 312\n",
                                                "Found subgraph with density 15.466453674121405 and 312 vertices\n"
                                        ]
                                }
                        ],
                        "source": [
                                "r = extract_disjoint_dense_subgraphs(g, 5)"
                        ]
                },
                {
                        "cell_type": "markdown",
                        "id": "ebe243ca-6c18-4f88-afdd-d3457aabdf39",
                        "metadata": {},
                        "source": [
                                "## Experiments for Optimal Quasi Clique\n",
                                "\n",
                                "Now re-run the experiments from above with the new objective function and compare the results to the previous outputs."
                        ]
                },
                {
                        "cell_type": "markdown",
                        "id": "1d89d3f4-7e60-483d-bb5d-15d18f54bb17",
                        "metadata": {},
                        "source": [
                                "### Experiments for the OpenFlights Dataset"
                        ]
                },
                {
                        "cell_type": "markdown",
                        "id": "5f982205-d83c-442c-9a2b-320c556a6d5f",
                        "metadata": {},
                        "source": [
                                "### Experiments for the Facebook Dataset"
                        ]
                },
                {
                        "cell_type": "markdown",
                        "id": "a8475b4e",
                        "metadata": {},
                        "source": []
                },
                {
                        "cell_type": "markdown",
                        "id": "bf69b3f1",
                        "metadata": {},
                        "source": []
                }
        ],
        "metadata": {
                "kernelspec": {
                        "display_name": "Python 3",
                        "language": "python",
                        "name": "python3"
                },
                "language_info": {
                        "codemirror_mode": {
                                "name": "ipython",
                                "version": 3
                        },
                        "file_extension": ".py",
                        "mimetype": "text/x-python",
                        "name": "python",
                        "nbconvert_exporter": "python",
                        "pygments_lexer": "ipython3",
                        "version": "3.11.6"
                }
        },
        "nbformat": 4,
        "nbformat_minor": 5
}
